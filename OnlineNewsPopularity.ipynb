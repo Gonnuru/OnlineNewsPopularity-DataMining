{
  "nbformat": 4,
  "nbformat_minor": 0,
  "metadata": {
    "kernelspec": {
      "display_name": "Python 3",
      "language": "python",
      "name": "python3"
    },
    "language_info": {
      "codemirror_mode": {
        "name": "ipython",
        "version": 3
      },
      "file_extension": ".py",
      "mimetype": "text/x-python",
      "name": "python",
      "nbconvert_exporter": "python",
      "pygments_lexer": "ipython3",
      "version": "3.7.1"
    },
    "colab": {
      "name": "IS 665 Final Project.ipynb",
      "provenance": []
    }
  },
  "cells": [
    {
      "cell_type": "code",
      "metadata": {
        "id": "GmYeYku1fXr-",
        "colab_type": "code",
        "colab": {}
      },
      "source": [
        "import pandas as pd\n",
        "import numpy as np\n",
        "from sklearn.metrics import accuracy_score\n",
        "from sklearn.model_selection import train_test_split\n",
        "from sklearn.tree import DecisionTreeClassifier\n",
        "from sklearn.feature_selection import RFE\n",
        "from sklearn.linear_model import LinearRegression\n",
        "from sklearn.metrics import confusion_matrix\n",
        "import matplotlib.pyplot as plt\n",
        "from sklearn.model_selection import cross_val_score"
      ],
      "execution_count": 0,
      "outputs": []
    },
    {
      "cell_type": "code",
      "metadata": {
        "id": "7gnPJ1z2fXsB",
        "colab_type": "code",
        "colab": {},
        "outputId": "c96d4f9b-6b6c-479a-f2bd-d206bd5fee79"
      },
      "source": [
        "data = pd.read_csv(\"OnlineNewsPopularity.csv\")\n",
        "data.head()"
      ],
      "execution_count": 0,
      "outputs": [
        {
          "output_type": "execute_result",
          "data": {
            "text/html": [
              "<div>\n",
              "<style scoped>\n",
              "    .dataframe tbody tr th:only-of-type {\n",
              "        vertical-align: middle;\n",
              "    }\n",
              "\n",
              "    .dataframe tbody tr th {\n",
              "        vertical-align: top;\n",
              "    }\n",
              "\n",
              "    .dataframe thead th {\n",
              "        text-align: right;\n",
              "    }\n",
              "</style>\n",
              "<table border=\"1\" class=\"dataframe\">\n",
              "  <thead>\n",
              "    <tr style=\"text-align: right;\">\n",
              "      <th></th>\n",
              "      <th>url</th>\n",
              "      <th>timedelta</th>\n",
              "      <th>n_tokens_title</th>\n",
              "      <th>n_tokens_content</th>\n",
              "      <th>n_unique_tokens</th>\n",
              "      <th>n_non_stop_words</th>\n",
              "      <th>n_non_stop_unique_tokens</th>\n",
              "      <th>num_hrefs</th>\n",
              "      <th>num_self_hrefs</th>\n",
              "      <th>num_imgs</th>\n",
              "      <th>...</th>\n",
              "      <th>min_positive_polarity</th>\n",
              "      <th>max_positive_polarity</th>\n",
              "      <th>avg_negative_polarity</th>\n",
              "      <th>min_negative_polarity</th>\n",
              "      <th>max_negative_polarity</th>\n",
              "      <th>title_subjectivity</th>\n",
              "      <th>title_sentiment_polarity</th>\n",
              "      <th>abs_title_subjectivity</th>\n",
              "      <th>abs_title_sentiment_polarity</th>\n",
              "      <th>shares</th>\n",
              "    </tr>\n",
              "  </thead>\n",
              "  <tbody>\n",
              "    <tr>\n",
              "      <th>0</th>\n",
              "      <td>http://mashable.com/2013/01/07/amazon-instant-...</td>\n",
              "      <td>731</td>\n",
              "      <td>12</td>\n",
              "      <td>219</td>\n",
              "      <td>0.663594</td>\n",
              "      <td>1.0</td>\n",
              "      <td>0.815385</td>\n",
              "      <td>4</td>\n",
              "      <td>2</td>\n",
              "      <td>1</td>\n",
              "      <td>...</td>\n",
              "      <td>0.100000</td>\n",
              "      <td>0.7</td>\n",
              "      <td>-0.350000</td>\n",
              "      <td>-0.600</td>\n",
              "      <td>-0.200000</td>\n",
              "      <td>0.500000</td>\n",
              "      <td>-0.187500</td>\n",
              "      <td>0.000000</td>\n",
              "      <td>0.187500</td>\n",
              "      <td>593</td>\n",
              "    </tr>\n",
              "    <tr>\n",
              "      <th>1</th>\n",
              "      <td>http://mashable.com/2013/01/07/ap-samsung-spon...</td>\n",
              "      <td>731</td>\n",
              "      <td>9</td>\n",
              "      <td>255</td>\n",
              "      <td>0.604743</td>\n",
              "      <td>1.0</td>\n",
              "      <td>0.791946</td>\n",
              "      <td>3</td>\n",
              "      <td>1</td>\n",
              "      <td>1</td>\n",
              "      <td>...</td>\n",
              "      <td>0.033333</td>\n",
              "      <td>0.7</td>\n",
              "      <td>-0.118750</td>\n",
              "      <td>-0.125</td>\n",
              "      <td>-0.100000</td>\n",
              "      <td>0.000000</td>\n",
              "      <td>0.000000</td>\n",
              "      <td>0.500000</td>\n",
              "      <td>0.000000</td>\n",
              "      <td>711</td>\n",
              "    </tr>\n",
              "    <tr>\n",
              "      <th>2</th>\n",
              "      <td>http://mashable.com/2013/01/07/apple-40-billio...</td>\n",
              "      <td>731</td>\n",
              "      <td>9</td>\n",
              "      <td>211</td>\n",
              "      <td>0.575130</td>\n",
              "      <td>1.0</td>\n",
              "      <td>0.663866</td>\n",
              "      <td>3</td>\n",
              "      <td>1</td>\n",
              "      <td>1</td>\n",
              "      <td>...</td>\n",
              "      <td>0.100000</td>\n",
              "      <td>1.0</td>\n",
              "      <td>-0.466667</td>\n",
              "      <td>-0.800</td>\n",
              "      <td>-0.133333</td>\n",
              "      <td>0.000000</td>\n",
              "      <td>0.000000</td>\n",
              "      <td>0.500000</td>\n",
              "      <td>0.000000</td>\n",
              "      <td>1500</td>\n",
              "    </tr>\n",
              "    <tr>\n",
              "      <th>3</th>\n",
              "      <td>http://mashable.com/2013/01/07/astronaut-notre...</td>\n",
              "      <td>731</td>\n",
              "      <td>9</td>\n",
              "      <td>531</td>\n",
              "      <td>0.503788</td>\n",
              "      <td>1.0</td>\n",
              "      <td>0.665635</td>\n",
              "      <td>9</td>\n",
              "      <td>0</td>\n",
              "      <td>1</td>\n",
              "      <td>...</td>\n",
              "      <td>0.136364</td>\n",
              "      <td>0.8</td>\n",
              "      <td>-0.369697</td>\n",
              "      <td>-0.600</td>\n",
              "      <td>-0.166667</td>\n",
              "      <td>0.000000</td>\n",
              "      <td>0.000000</td>\n",
              "      <td>0.500000</td>\n",
              "      <td>0.000000</td>\n",
              "      <td>1200</td>\n",
              "    </tr>\n",
              "    <tr>\n",
              "      <th>4</th>\n",
              "      <td>http://mashable.com/2013/01/07/att-u-verse-apps/</td>\n",
              "      <td>731</td>\n",
              "      <td>13</td>\n",
              "      <td>1072</td>\n",
              "      <td>0.415646</td>\n",
              "      <td>1.0</td>\n",
              "      <td>0.540890</td>\n",
              "      <td>19</td>\n",
              "      <td>19</td>\n",
              "      <td>20</td>\n",
              "      <td>...</td>\n",
              "      <td>0.033333</td>\n",
              "      <td>1.0</td>\n",
              "      <td>-0.220192</td>\n",
              "      <td>-0.500</td>\n",
              "      <td>-0.050000</td>\n",
              "      <td>0.454545</td>\n",
              "      <td>0.136364</td>\n",
              "      <td>0.045455</td>\n",
              "      <td>0.136364</td>\n",
              "      <td>505</td>\n",
              "    </tr>\n",
              "  </tbody>\n",
              "</table>\n",
              "<p>5 rows × 61 columns</p>\n",
              "</div>"
            ],
            "text/plain": [
              "                                                 url  timedelta  \\\n",
              "0  http://mashable.com/2013/01/07/amazon-instant-...        731   \n",
              "1  http://mashable.com/2013/01/07/ap-samsung-spon...        731   \n",
              "2  http://mashable.com/2013/01/07/apple-40-billio...        731   \n",
              "3  http://mashable.com/2013/01/07/astronaut-notre...        731   \n",
              "4   http://mashable.com/2013/01/07/att-u-verse-apps/        731   \n",
              "\n",
              "   n_tokens_title  n_tokens_content  n_unique_tokens  n_non_stop_words  \\\n",
              "0              12               219         0.663594               1.0   \n",
              "1               9               255         0.604743               1.0   \n",
              "2               9               211         0.575130               1.0   \n",
              "3               9               531         0.503788               1.0   \n",
              "4              13              1072         0.415646               1.0   \n",
              "\n",
              "   n_non_stop_unique_tokens  num_hrefs  num_self_hrefs  num_imgs   ...    \\\n",
              "0                  0.815385          4               2         1   ...     \n",
              "1                  0.791946          3               1         1   ...     \n",
              "2                  0.663866          3               1         1   ...     \n",
              "3                  0.665635          9               0         1   ...     \n",
              "4                  0.540890         19              19        20   ...     \n",
              "\n",
              "   min_positive_polarity  max_positive_polarity  avg_negative_polarity  \\\n",
              "0               0.100000                    0.7              -0.350000   \n",
              "1               0.033333                    0.7              -0.118750   \n",
              "2               0.100000                    1.0              -0.466667   \n",
              "3               0.136364                    0.8              -0.369697   \n",
              "4               0.033333                    1.0              -0.220192   \n",
              "\n",
              "   min_negative_polarity  max_negative_polarity  title_subjectivity  \\\n",
              "0                 -0.600              -0.200000            0.500000   \n",
              "1                 -0.125              -0.100000            0.000000   \n",
              "2                 -0.800              -0.133333            0.000000   \n",
              "3                 -0.600              -0.166667            0.000000   \n",
              "4                 -0.500              -0.050000            0.454545   \n",
              "\n",
              "   title_sentiment_polarity  abs_title_subjectivity  \\\n",
              "0                 -0.187500                0.000000   \n",
              "1                  0.000000                0.500000   \n",
              "2                  0.000000                0.500000   \n",
              "3                  0.000000                0.500000   \n",
              "4                  0.136364                0.045455   \n",
              "\n",
              "   abs_title_sentiment_polarity  shares  \n",
              "0                      0.187500     593  \n",
              "1                      0.000000     711  \n",
              "2                      0.000000    1500  \n",
              "3                      0.000000    1200  \n",
              "4                      0.136364     505  \n",
              "\n",
              "[5 rows x 61 columns]"
            ]
          },
          "metadata": {
            "tags": []
          },
          "execution_count": 2
        }
      ]
    },
    {
      "cell_type": "markdown",
      "metadata": {
        "id": "ajWEkYlrfXsF",
        "colab_type": "text"
      },
      "source": [
        "#### Checking the shape of the dataframe; number of rows and columns."
      ]
    },
    {
      "cell_type": "code",
      "metadata": {
        "id": "rfI-uYYBfXsF",
        "colab_type": "code",
        "colab": {},
        "outputId": "90cf6092-7f39-420d-a8ac-3b20279b7542"
      },
      "source": [
        "data.shape"
      ],
      "execution_count": 0,
      "outputs": [
        {
          "output_type": "execute_result",
          "data": {
            "text/plain": [
              "(39644, 61)"
            ]
          },
          "metadata": {
            "tags": []
          },
          "execution_count": 3
        }
      ]
    },
    {
      "cell_type": "code",
      "metadata": {
        "scrolled": true,
        "id": "rxIbjyO7fXsH",
        "colab_type": "code",
        "colab": {},
        "outputId": "3f5c8c37-fa80-4557-f278-76a856465731"
      },
      "source": [
        "data.info()"
      ],
      "execution_count": 0,
      "outputs": [
        {
          "output_type": "stream",
          "text": [
            "<class 'pandas.core.frame.DataFrame'>\n",
            "RangeIndex: 39644 entries, 0 to 39643\n",
            "Data columns (total 61 columns):\n",
            "url                              39644 non-null object\n",
            "timedelta                        39644 non-null int64\n",
            "n_tokens_title                   39644 non-null int64\n",
            "n_tokens_content                 39644 non-null int64\n",
            "n_unique_tokens                  39644 non-null float64\n",
            "n_non_stop_words                 39644 non-null float64\n",
            "n_non_stop_unique_tokens         39644 non-null float64\n",
            "num_hrefs                        39644 non-null int64\n",
            "num_self_hrefs                   39644 non-null int64\n",
            "num_imgs                         39644 non-null int64\n",
            "num_videos                       39644 non-null int64\n",
            "average_token_length             39644 non-null float64\n",
            "num_keywords                     39644 non-null int64\n",
            "data_channel_is_lifestyle        39644 non-null int64\n",
            "data_channel_is_entertainment    39644 non-null int64\n",
            "data_channel_is_bus              39644 non-null int64\n",
            "data_channel_is_socmed           39644 non-null int64\n",
            "data_channel_is_tech             39644 non-null int64\n",
            "data_channel_is_world            39644 non-null int64\n",
            "kw_min_min                       39644 non-null int64\n",
            "kw_max_min                       39644 non-null float64\n",
            "kw_avg_min                       39644 non-null float64\n",
            "kw_min_max                       39644 non-null int64\n",
            "kw_max_max                       39644 non-null int64\n",
            "kw_avg_max                       39644 non-null float64\n",
            "kw_min_avg                       39644 non-null float64\n",
            "kw_max_avg                       39644 non-null float64\n",
            "kw_avg_avg                       39644 non-null float64\n",
            "self_reference_min_shares        39644 non-null float64\n",
            "self_reference_max_shares        39644 non-null float64\n",
            "self_reference_avg_sharess       39644 non-null float64\n",
            "weekday_is_monday                39644 non-null int64\n",
            "weekday_is_tuesday               39644 non-null int64\n",
            "weekday_is_wednesday             39644 non-null int64\n",
            "weekday_is_thursday              39644 non-null int64\n",
            "weekday_is_friday                39644 non-null int64\n",
            "weekday_is_saturday              39644 non-null int64\n",
            "weekday_is_sunday                39644 non-null int64\n",
            "is_weekend                       39644 non-null int64\n",
            "LDA_00                           39644 non-null float64\n",
            "LDA_01                           39644 non-null float64\n",
            "LDA_02                           39644 non-null float64\n",
            "LDA_03                           39644 non-null float64\n",
            "LDA_04                           39644 non-null float64\n",
            "global_subjectivity              39644 non-null float64\n",
            "global_sentiment_polarity        39644 non-null float64\n",
            "global_rate_positive_words       39644 non-null float64\n",
            "global_rate_negative_words       39644 non-null float64\n",
            "rate_positive_words              39644 non-null float64\n",
            "rate_negative_words              39644 non-null float64\n",
            "avg_positive_polarity            39644 non-null float64\n",
            "min_positive_polarity            39644 non-null float64\n",
            "max_positive_polarity            39644 non-null float64\n",
            "avg_negative_polarity            39644 non-null float64\n",
            "min_negative_polarity            39644 non-null float64\n",
            "max_negative_polarity            39644 non-null float64\n",
            "title_subjectivity               39644 non-null float64\n",
            "title_sentiment_polarity         39644 non-null float64\n",
            "abs_title_subjectivity           39644 non-null float64\n",
            "abs_title_sentiment_polarity     39644 non-null float64\n",
            "shares                           39644 non-null int64\n",
            "dtypes: float64(34), int64(26), object(1)\n",
            "memory usage: 18.5+ MB\n"
          ],
          "name": "stdout"
        }
      ]
    },
    {
      "cell_type": "markdown",
      "metadata": {
        "id": "52Jl_2EMfXsJ",
        "colab_type": "text"
      },
      "source": [
        "## Data Cleaning\n",
        "\n",
        "#### Checking for Missing Values, although the UCI machine learning repository which hosts the current data set has indicated that the data set has no missing values"
      ]
    },
    {
      "cell_type": "code",
      "metadata": {
        "id": "P2WYept9fXsK",
        "colab_type": "code",
        "colab": {},
        "outputId": "056a6ad9-7774-4bfd-8f1f-a5fcd0bb0d8e"
      },
      "source": [
        "data.isnull().sum()"
      ],
      "execution_count": 0,
      "outputs": [
        {
          "output_type": "execute_result",
          "data": {
            "text/plain": [
              "url                              0\n",
              "timedelta                        0\n",
              "n_tokens_title                   0\n",
              "n_tokens_content                 0\n",
              "n_unique_tokens                  0\n",
              "n_non_stop_words                 0\n",
              "n_non_stop_unique_tokens         0\n",
              "num_hrefs                        0\n",
              "num_self_hrefs                   0\n",
              "num_imgs                         0\n",
              "num_videos                       0\n",
              "average_token_length             0\n",
              "num_keywords                     0\n",
              "data_channel_is_lifestyle        0\n",
              "data_channel_is_entertainment    0\n",
              "data_channel_is_bus              0\n",
              "data_channel_is_socmed           0\n",
              "data_channel_is_tech             0\n",
              "data_channel_is_world            0\n",
              "kw_min_min                       0\n",
              "kw_max_min                       0\n",
              "kw_avg_min                       0\n",
              "kw_min_max                       0\n",
              "kw_max_max                       0\n",
              "kw_avg_max                       0\n",
              "kw_min_avg                       0\n",
              "kw_max_avg                       0\n",
              "kw_avg_avg                       0\n",
              "self_reference_min_shares        0\n",
              "self_reference_max_shares        0\n",
              "                                ..\n",
              "weekday_is_monday                0\n",
              "weekday_is_tuesday               0\n",
              "weekday_is_wednesday             0\n",
              "weekday_is_thursday              0\n",
              "weekday_is_friday                0\n",
              "weekday_is_saturday              0\n",
              "weekday_is_sunday                0\n",
              "is_weekend                       0\n",
              "LDA_00                           0\n",
              "LDA_01                           0\n",
              "LDA_02                           0\n",
              "LDA_03                           0\n",
              "LDA_04                           0\n",
              "global_subjectivity              0\n",
              "global_sentiment_polarity        0\n",
              "global_rate_positive_words       0\n",
              "global_rate_negative_words       0\n",
              "rate_positive_words              0\n",
              "rate_negative_words              0\n",
              "avg_positive_polarity            0\n",
              "min_positive_polarity            0\n",
              "max_positive_polarity            0\n",
              "avg_negative_polarity            0\n",
              "min_negative_polarity            0\n",
              "max_negative_polarity            0\n",
              "title_subjectivity               0\n",
              "title_sentiment_polarity         0\n",
              "abs_title_subjectivity           0\n",
              "abs_title_sentiment_polarity     0\n",
              "shares                           0\n",
              "Length: 61, dtype: int64"
            ]
          },
          "metadata": {
            "tags": []
          },
          "execution_count": 5
        }
      ]
    },
    {
      "cell_type": "code",
      "metadata": {
        "scrolled": true,
        "id": "fpIAYJzbfXsM",
        "colab_type": "code",
        "colab": {},
        "outputId": "f149ae88-2577-4807-d91d-fc78bdb78cc8"
      },
      "source": [
        "data.dtypes"
      ],
      "execution_count": 0,
      "outputs": [
        {
          "output_type": "execute_result",
          "data": {
            "text/plain": [
              "url                               object\n",
              "timedelta                          int64\n",
              "n_tokens_title                     int64\n",
              "n_tokens_content                   int64\n",
              "n_unique_tokens                  float64\n",
              "n_non_stop_words                 float64\n",
              "n_non_stop_unique_tokens         float64\n",
              "num_hrefs                          int64\n",
              "num_self_hrefs                     int64\n",
              "num_imgs                           int64\n",
              "num_videos                         int64\n",
              "average_token_length             float64\n",
              "num_keywords                       int64\n",
              "data_channel_is_lifestyle          int64\n",
              "data_channel_is_entertainment      int64\n",
              "data_channel_is_bus                int64\n",
              "data_channel_is_socmed             int64\n",
              "data_channel_is_tech               int64\n",
              "data_channel_is_world              int64\n",
              "kw_min_min                         int64\n",
              "kw_max_min                       float64\n",
              "kw_avg_min                       float64\n",
              "kw_min_max                         int64\n",
              "kw_max_max                         int64\n",
              "kw_avg_max                       float64\n",
              "kw_min_avg                       float64\n",
              "kw_max_avg                       float64\n",
              "kw_avg_avg                       float64\n",
              "self_reference_min_shares        float64\n",
              "self_reference_max_shares        float64\n",
              "                                  ...   \n",
              "weekday_is_monday                  int64\n",
              "weekday_is_tuesday                 int64\n",
              "weekday_is_wednesday               int64\n",
              "weekday_is_thursday                int64\n",
              "weekday_is_friday                  int64\n",
              "weekday_is_saturday                int64\n",
              "weekday_is_sunday                  int64\n",
              "is_weekend                         int64\n",
              "LDA_00                           float64\n",
              "LDA_01                           float64\n",
              "LDA_02                           float64\n",
              "LDA_03                           float64\n",
              "LDA_04                           float64\n",
              "global_subjectivity              float64\n",
              "global_sentiment_polarity        float64\n",
              "global_rate_positive_words       float64\n",
              "global_rate_negative_words       float64\n",
              "rate_positive_words              float64\n",
              "rate_negative_words              float64\n",
              "avg_positive_polarity            float64\n",
              "min_positive_polarity            float64\n",
              "max_positive_polarity            float64\n",
              "avg_negative_polarity            float64\n",
              "min_negative_polarity            float64\n",
              "max_negative_polarity            float64\n",
              "title_subjectivity               float64\n",
              "title_sentiment_polarity         float64\n",
              "abs_title_subjectivity           float64\n",
              "abs_title_sentiment_polarity     float64\n",
              "shares                             int64\n",
              "Length: 61, dtype: object"
            ]
          },
          "metadata": {
            "tags": []
          },
          "execution_count": 6
        }
      ]
    },
    {
      "cell_type": "markdown",
      "metadata": {
        "id": "wcxVwtkIfXsO",
        "colab_type": "text"
      },
      "source": [
        "#### Creating the X columns to train the data.\n",
        "#### From the available 60 attribute we observe that following arrttributes can be eliminated since they do not contribute towards\n",
        "#### Target attribute that is Shares.\n",
        "#### URL - Since every URL is unique for each column\n",
        "#### 'weekday_is_monday', 'weekday_is_tuesday', 'weekday_is_wednesday', 'weekday_is_thursday', 'weekday_is_friday', 'weekday_is_saturday', 'weekday_is_sunday'\n",
        "#### From following attribute we are trying to understand if the news was published on weekend and following information is available in \"is_weekend\" attribute"
      ]
    },
    {
      "cell_type": "code",
      "metadata": {
        "id": "ZYqeAeiIfXsP",
        "colab_type": "code",
        "colab": {}
      },
      "source": [
        "x=data.drop(['shares','url', 'weekday_is_monday', 'weekday_is_tuesday', 'weekday_is_wednesday', 'weekday_is_thursday', 'weekday_is_friday', 'weekday_is_saturday', 'weekday_is_sunday'], axis=1)"
      ],
      "execution_count": 0,
      "outputs": []
    },
    {
      "cell_type": "code",
      "metadata": {
        "scrolled": true,
        "id": "z0atwUW_fXsR",
        "colab_type": "code",
        "colab": {},
        "outputId": "6548c644-a2d3-4835-b66d-1e8a7c4edebf"
      },
      "source": [
        "x.shape"
      ],
      "execution_count": 0,
      "outputs": [
        {
          "output_type": "execute_result",
          "data": {
            "text/plain": [
              "(39644, 52)"
            ]
          },
          "metadata": {
            "tags": []
          },
          "execution_count": 8
        }
      ]
    },
    {
      "cell_type": "code",
      "metadata": {
        "scrolled": true,
        "id": "r3E-RLD0fXsT",
        "colab_type": "code",
        "colab": {},
        "outputId": "d436d930-f3b3-442b-f6a4-6840a9d3c38e"
      },
      "source": [
        "x.head(5)"
      ],
      "execution_count": 0,
      "outputs": [
        {
          "output_type": "execute_result",
          "data": {
            "text/html": [
              "<div>\n",
              "<style scoped>\n",
              "    .dataframe tbody tr th:only-of-type {\n",
              "        vertical-align: middle;\n",
              "    }\n",
              "\n",
              "    .dataframe tbody tr th {\n",
              "        vertical-align: top;\n",
              "    }\n",
              "\n",
              "    .dataframe thead th {\n",
              "        text-align: right;\n",
              "    }\n",
              "</style>\n",
              "<table border=\"1\" class=\"dataframe\">\n",
              "  <thead>\n",
              "    <tr style=\"text-align: right;\">\n",
              "      <th></th>\n",
              "      <th>timedelta</th>\n",
              "      <th>n_tokens_title</th>\n",
              "      <th>n_tokens_content</th>\n",
              "      <th>n_unique_tokens</th>\n",
              "      <th>n_non_stop_words</th>\n",
              "      <th>n_non_stop_unique_tokens</th>\n",
              "      <th>num_hrefs</th>\n",
              "      <th>num_self_hrefs</th>\n",
              "      <th>num_imgs</th>\n",
              "      <th>num_videos</th>\n",
              "      <th>...</th>\n",
              "      <th>avg_positive_polarity</th>\n",
              "      <th>min_positive_polarity</th>\n",
              "      <th>max_positive_polarity</th>\n",
              "      <th>avg_negative_polarity</th>\n",
              "      <th>min_negative_polarity</th>\n",
              "      <th>max_negative_polarity</th>\n",
              "      <th>title_subjectivity</th>\n",
              "      <th>title_sentiment_polarity</th>\n",
              "      <th>abs_title_subjectivity</th>\n",
              "      <th>abs_title_sentiment_polarity</th>\n",
              "    </tr>\n",
              "  </thead>\n",
              "  <tbody>\n",
              "    <tr>\n",
              "      <th>0</th>\n",
              "      <td>731</td>\n",
              "      <td>12</td>\n",
              "      <td>219</td>\n",
              "      <td>0.663594</td>\n",
              "      <td>1.0</td>\n",
              "      <td>0.815385</td>\n",
              "      <td>4</td>\n",
              "      <td>2</td>\n",
              "      <td>1</td>\n",
              "      <td>0</td>\n",
              "      <td>...</td>\n",
              "      <td>0.378636</td>\n",
              "      <td>0.100000</td>\n",
              "      <td>0.7</td>\n",
              "      <td>-0.350000</td>\n",
              "      <td>-0.600</td>\n",
              "      <td>-0.200000</td>\n",
              "      <td>0.500000</td>\n",
              "      <td>-0.187500</td>\n",
              "      <td>0.000000</td>\n",
              "      <td>0.187500</td>\n",
              "    </tr>\n",
              "    <tr>\n",
              "      <th>1</th>\n",
              "      <td>731</td>\n",
              "      <td>9</td>\n",
              "      <td>255</td>\n",
              "      <td>0.604743</td>\n",
              "      <td>1.0</td>\n",
              "      <td>0.791946</td>\n",
              "      <td>3</td>\n",
              "      <td>1</td>\n",
              "      <td>1</td>\n",
              "      <td>0</td>\n",
              "      <td>...</td>\n",
              "      <td>0.286915</td>\n",
              "      <td>0.033333</td>\n",
              "      <td>0.7</td>\n",
              "      <td>-0.118750</td>\n",
              "      <td>-0.125</td>\n",
              "      <td>-0.100000</td>\n",
              "      <td>0.000000</td>\n",
              "      <td>0.000000</td>\n",
              "      <td>0.500000</td>\n",
              "      <td>0.000000</td>\n",
              "    </tr>\n",
              "    <tr>\n",
              "      <th>2</th>\n",
              "      <td>731</td>\n",
              "      <td>9</td>\n",
              "      <td>211</td>\n",
              "      <td>0.575130</td>\n",
              "      <td>1.0</td>\n",
              "      <td>0.663866</td>\n",
              "      <td>3</td>\n",
              "      <td>1</td>\n",
              "      <td>1</td>\n",
              "      <td>0</td>\n",
              "      <td>...</td>\n",
              "      <td>0.495833</td>\n",
              "      <td>0.100000</td>\n",
              "      <td>1.0</td>\n",
              "      <td>-0.466667</td>\n",
              "      <td>-0.800</td>\n",
              "      <td>-0.133333</td>\n",
              "      <td>0.000000</td>\n",
              "      <td>0.000000</td>\n",
              "      <td>0.500000</td>\n",
              "      <td>0.000000</td>\n",
              "    </tr>\n",
              "    <tr>\n",
              "      <th>3</th>\n",
              "      <td>731</td>\n",
              "      <td>9</td>\n",
              "      <td>531</td>\n",
              "      <td>0.503788</td>\n",
              "      <td>1.0</td>\n",
              "      <td>0.665635</td>\n",
              "      <td>9</td>\n",
              "      <td>0</td>\n",
              "      <td>1</td>\n",
              "      <td>0</td>\n",
              "      <td>...</td>\n",
              "      <td>0.385965</td>\n",
              "      <td>0.136364</td>\n",
              "      <td>0.8</td>\n",
              "      <td>-0.369697</td>\n",
              "      <td>-0.600</td>\n",
              "      <td>-0.166667</td>\n",
              "      <td>0.000000</td>\n",
              "      <td>0.000000</td>\n",
              "      <td>0.500000</td>\n",
              "      <td>0.000000</td>\n",
              "    </tr>\n",
              "    <tr>\n",
              "      <th>4</th>\n",
              "      <td>731</td>\n",
              "      <td>13</td>\n",
              "      <td>1072</td>\n",
              "      <td>0.415646</td>\n",
              "      <td>1.0</td>\n",
              "      <td>0.540890</td>\n",
              "      <td>19</td>\n",
              "      <td>19</td>\n",
              "      <td>20</td>\n",
              "      <td>0</td>\n",
              "      <td>...</td>\n",
              "      <td>0.411127</td>\n",
              "      <td>0.033333</td>\n",
              "      <td>1.0</td>\n",
              "      <td>-0.220192</td>\n",
              "      <td>-0.500</td>\n",
              "      <td>-0.050000</td>\n",
              "      <td>0.454545</td>\n",
              "      <td>0.136364</td>\n",
              "      <td>0.045455</td>\n",
              "      <td>0.136364</td>\n",
              "    </tr>\n",
              "  </tbody>\n",
              "</table>\n",
              "<p>5 rows × 52 columns</p>\n",
              "</div>"
            ],
            "text/plain": [
              "   timedelta  n_tokens_title  n_tokens_content  n_unique_tokens  \\\n",
              "0        731              12               219         0.663594   \n",
              "1        731               9               255         0.604743   \n",
              "2        731               9               211         0.575130   \n",
              "3        731               9               531         0.503788   \n",
              "4        731              13              1072         0.415646   \n",
              "\n",
              "   n_non_stop_words  n_non_stop_unique_tokens  num_hrefs  num_self_hrefs  \\\n",
              "0               1.0                  0.815385          4               2   \n",
              "1               1.0                  0.791946          3               1   \n",
              "2               1.0                  0.663866          3               1   \n",
              "3               1.0                  0.665635          9               0   \n",
              "4               1.0                  0.540890         19              19   \n",
              "\n",
              "   num_imgs  num_videos              ...               avg_positive_polarity  \\\n",
              "0         1           0              ...                            0.378636   \n",
              "1         1           0              ...                            0.286915   \n",
              "2         1           0              ...                            0.495833   \n",
              "3         1           0              ...                            0.385965   \n",
              "4        20           0              ...                            0.411127   \n",
              "\n",
              "   min_positive_polarity  max_positive_polarity  avg_negative_polarity  \\\n",
              "0               0.100000                    0.7              -0.350000   \n",
              "1               0.033333                    0.7              -0.118750   \n",
              "2               0.100000                    1.0              -0.466667   \n",
              "3               0.136364                    0.8              -0.369697   \n",
              "4               0.033333                    1.0              -0.220192   \n",
              "\n",
              "   min_negative_polarity  max_negative_polarity  title_subjectivity  \\\n",
              "0                 -0.600              -0.200000            0.500000   \n",
              "1                 -0.125              -0.100000            0.000000   \n",
              "2                 -0.800              -0.133333            0.000000   \n",
              "3                 -0.600              -0.166667            0.000000   \n",
              "4                 -0.500              -0.050000            0.454545   \n",
              "\n",
              "   title_sentiment_polarity  abs_title_subjectivity  \\\n",
              "0                 -0.187500                0.000000   \n",
              "1                  0.000000                0.500000   \n",
              "2                  0.000000                0.500000   \n",
              "3                  0.000000                0.500000   \n",
              "4                  0.136364                0.045455   \n",
              "\n",
              "   abs_title_sentiment_polarity  \n",
              "0                      0.187500  \n",
              "1                      0.000000  \n",
              "2                      0.000000  \n",
              "3                      0.000000  \n",
              "4                      0.136364  \n",
              "\n",
              "[5 rows x 52 columns]"
            ]
          },
          "metadata": {
            "tags": []
          },
          "execution_count": 9
        }
      ]
    },
    {
      "cell_type": "code",
      "metadata": {
        "scrolled": true,
        "id": "V4rEm202fXsV",
        "colab_type": "code",
        "colab": {},
        "outputId": "f02cfef4-b7c6-4c29-e681-a16c01ff7aa2"
      },
      "source": [
        "plt.hist(data['shares'])\n",
        "plt.show()"
      ],
      "execution_count": 0,
      "outputs": [
        {
          "output_type": "display_data",
          "data": {
            "image/png": "[encoded data removed]",
            "text/plain": [
              "<Figure size 432x288 with 1 Axes>"
            ]
          },
          "metadata": {
            "tags": [],
            "needs_background": "light"
          }
        }
      ]
    },
    {
      "cell_type": "code",
      "metadata": {
        "scrolled": true,
        "id": "PiO9Ply8fXsX",
        "colab_type": "code",
        "colab": {},
        "outputId": "fde6f310-57c0-4061-9c18-f1bd46163f52"
      },
      "source": [
        "np.log10(data['shares']).describe()"
      ],
      "execution_count": 0,
      "outputs": [
        {
          "output_type": "execute_result",
          "data": {
            "text/plain": [
              "count    39644.000000\n",
              "mean         3.246288\n",
              "std          0.404105\n",
              "min          0.000000\n",
              "25%          2.975891\n",
              "50%          3.146128\n",
              "75%          3.447158\n",
              "max          5.925982\n",
              "Name: shares, dtype: float64"
            ]
          },
          "metadata": {
            "tags": []
          },
          "execution_count": 11
        }
      ]
    },
    {
      "cell_type": "markdown",
      "metadata": {
        "id": "TVCYe2hAfXsa",
        "colab_type": "text"
      },
      "source": [
        "### Creating a new attribute as Category to be used as Target attribute\n",
        "#### The Columns are identified as either 1 or 2 on following basis\n",
        "#### Category 1 - the news artical that are shared less then 50% that is less than value 3 - Article is not much popular\n",
        "#### Category 2 - the news artical that are shared more then 50% that is more than value 3 - Article is very popular"
      ]
    },
    {
      "cell_type": "code",
      "metadata": {
        "id": "NI3dHE2IfXsa",
        "colab_type": "code",
        "colab": {}
      },
      "source": [
        "data_class = np.log10(data['shares'])\n",
        "data['category'] = (data_class<=3)*1 | (data_class>3)*2"
      ],
      "execution_count": 0,
      "outputs": []
    },
    {
      "cell_type": "code",
      "metadata": {
        "id": "YGOzp-79fXsc",
        "colab_type": "code",
        "colab": {},
        "outputId": "e8ca87e4-e533-4125-c10e-2f34be96477d"
      },
      "source": [
        "plt.hist(data['category'])\n",
        "plt.show()"
      ],
      "execution_count": 0,
      "outputs": [
        {
          "output_type": "display_data",
          "data": {
            "image/png": "[encoded data removed]",
            "text/plain": [
              "<Figure size 432x288 with 1 Axes>"
            ]
          },
          "metadata": {
            "tags": [],
            "needs_background": "light"
          }
        }
      ]
    },
    {
      "cell_type": "code",
      "metadata": {
        "scrolled": true,
        "id": "ErdMfoqffXse",
        "colab_type": "code",
        "colab": {},
        "outputId": "8426c7c8-4098-4936-b33b-f2004db0fd9f"
      },
      "source": [
        "data.head(2)"
      ],
      "execution_count": 0,
      "outputs": [
        {
          "output_type": "execute_result",
          "data": {
            "text/html": [
              "<div>\n",
              "<style scoped>\n",
              "    .dataframe tbody tr th:only-of-type {\n",
              "        vertical-align: middle;\n",
              "    }\n",
              "\n",
              "    .dataframe tbody tr th {\n",
              "        vertical-align: top;\n",
              "    }\n",
              "\n",
              "    .dataframe thead th {\n",
              "        text-align: right;\n",
              "    }\n",
              "</style>\n",
              "<table border=\"1\" class=\"dataframe\">\n",
              "  <thead>\n",
              "    <tr style=\"text-align: right;\">\n",
              "      <th></th>\n",
              "      <th>url</th>\n",
              "      <th>timedelta</th>\n",
              "      <th>n_tokens_title</th>\n",
              "      <th>n_tokens_content</th>\n",
              "      <th>n_unique_tokens</th>\n",
              "      <th>n_non_stop_words</th>\n",
              "      <th>n_non_stop_unique_tokens</th>\n",
              "      <th>num_hrefs</th>\n",
              "      <th>num_self_hrefs</th>\n",
              "      <th>num_imgs</th>\n",
              "      <th>...</th>\n",
              "      <th>max_positive_polarity</th>\n",
              "      <th>avg_negative_polarity</th>\n",
              "      <th>min_negative_polarity</th>\n",
              "      <th>max_negative_polarity</th>\n",
              "      <th>title_subjectivity</th>\n",
              "      <th>title_sentiment_polarity</th>\n",
              "      <th>abs_title_subjectivity</th>\n",
              "      <th>abs_title_sentiment_polarity</th>\n",
              "      <th>shares</th>\n",
              "      <th>category</th>\n",
              "    </tr>\n",
              "  </thead>\n",
              "  <tbody>\n",
              "    <tr>\n",
              "      <th>0</th>\n",
              "      <td>http://mashable.com/2013/01/07/amazon-instant-...</td>\n",
              "      <td>731</td>\n",
              "      <td>12</td>\n",
              "      <td>219</td>\n",
              "      <td>0.663594</td>\n",
              "      <td>1.0</td>\n",
              "      <td>0.815385</td>\n",
              "      <td>4</td>\n",
              "      <td>2</td>\n",
              "      <td>1</td>\n",
              "      <td>...</td>\n",
              "      <td>0.7</td>\n",
              "      <td>-0.35000</td>\n",
              "      <td>-0.600</td>\n",
              "      <td>-0.2</td>\n",
              "      <td>0.5</td>\n",
              "      <td>-0.1875</td>\n",
              "      <td>0.0</td>\n",
              "      <td>0.1875</td>\n",
              "      <td>593</td>\n",
              "      <td>1</td>\n",
              "    </tr>\n",
              "    <tr>\n",
              "      <th>1</th>\n",
              "      <td>http://mashable.com/2013/01/07/ap-samsung-spon...</td>\n",
              "      <td>731</td>\n",
              "      <td>9</td>\n",
              "      <td>255</td>\n",
              "      <td>0.604743</td>\n",
              "      <td>1.0</td>\n",
              "      <td>0.791946</td>\n",
              "      <td>3</td>\n",
              "      <td>1</td>\n",
              "      <td>1</td>\n",
              "      <td>...</td>\n",
              "      <td>0.7</td>\n",
              "      <td>-0.11875</td>\n",
              "      <td>-0.125</td>\n",
              "      <td>-0.1</td>\n",
              "      <td>0.0</td>\n",
              "      <td>0.0000</td>\n",
              "      <td>0.5</td>\n",
              "      <td>0.0000</td>\n",
              "      <td>711</td>\n",
              "      <td>1</td>\n",
              "    </tr>\n",
              "  </tbody>\n",
              "</table>\n",
              "<p>2 rows × 62 columns</p>\n",
              "</div>"
            ],
            "text/plain": [
              "                                                 url  timedelta  \\\n",
              "0  http://mashable.com/2013/01/07/amazon-instant-...        731   \n",
              "1  http://mashable.com/2013/01/07/ap-samsung-spon...        731   \n",
              "\n",
              "   n_tokens_title  n_tokens_content  n_unique_tokens  n_non_stop_words  \\\n",
              "0              12               219         0.663594               1.0   \n",
              "1               9               255         0.604743               1.0   \n",
              "\n",
              "   n_non_stop_unique_tokens  num_hrefs  num_self_hrefs  num_imgs    ...     \\\n",
              "0                  0.815385          4               2         1    ...      \n",
              "1                  0.791946          3               1         1    ...      \n",
              "\n",
              "   max_positive_polarity  avg_negative_polarity  min_negative_polarity  \\\n",
              "0                    0.7               -0.35000                 -0.600   \n",
              "1                    0.7               -0.11875                 -0.125   \n",
              "\n",
              "   max_negative_polarity  title_subjectivity  title_sentiment_polarity  \\\n",
              "0                   -0.2                 0.5                   -0.1875   \n",
              "1                   -0.1                 0.0                    0.0000   \n",
              "\n",
              "   abs_title_subjectivity  abs_title_sentiment_polarity  shares  category  \n",
              "0                     0.0                        0.1875     593         1  \n",
              "1                     0.5                        0.0000     711         1  \n",
              "\n",
              "[2 rows x 62 columns]"
            ]
          },
          "metadata": {
            "tags": []
          },
          "execution_count": 14
        }
      ]
    },
    {
      "cell_type": "code",
      "metadata": {
        "scrolled": true,
        "id": "UzSc4ANKfXsg",
        "colab_type": "code",
        "colab": {},
        "outputId": "a2375716-66fa-4514-b2e5-e5a991ffeeec"
      },
      "source": [
        "data.shape"
      ],
      "execution_count": 0,
      "outputs": [
        {
          "output_type": "execute_result",
          "data": {
            "text/plain": [
              "(39644, 62)"
            ]
          },
          "metadata": {
            "tags": []
          },
          "execution_count": 15
        }
      ]
    },
    {
      "cell_type": "markdown",
      "metadata": {
        "id": "8_nSE7-DfXsi",
        "colab_type": "text"
      },
      "source": [
        "### Declare the Y as Target\n",
        "#### Using attribute Shares as the target\n",
        "#### Analysing the Shares attribute"
      ]
    },
    {
      "cell_type": "code",
      "metadata": {
        "id": "G84_zbLCfXsi",
        "colab_type": "code",
        "colab": {}
      },
      "source": [
        "y=data['category']"
      ],
      "execution_count": 0,
      "outputs": []
    },
    {
      "cell_type": "code",
      "metadata": {
        "id": "ZlbB2nlOfXsk",
        "colab_type": "code",
        "colab": {},
        "outputId": "c555b169-b999-4f63-ef78-b5d6629a22d7"
      },
      "source": [
        "x.shape"
      ],
      "execution_count": 0,
      "outputs": [
        {
          "output_type": "execute_result",
          "data": {
            "text/plain": [
              "(39644, 52)"
            ]
          },
          "metadata": {
            "tags": []
          },
          "execution_count": 17
        }
      ]
    },
    {
      "cell_type": "code",
      "metadata": {
        "scrolled": true,
        "id": "FMkg_J-pfXso",
        "colab_type": "code",
        "colab": {},
        "outputId": "1d69e1d5-2979-49b1-fb4b-338e2be2ddfd"
      },
      "source": [
        "y.shape"
      ],
      "execution_count": 0,
      "outputs": [
        {
          "output_type": "execute_result",
          "data": {
            "text/plain": [
              "(39644,)"
            ]
          },
          "metadata": {
            "tags": []
          },
          "execution_count": 18
        }
      ]
    },
    {
      "cell_type": "markdown",
      "metadata": {
        "id": "ZLoLS25ufXsq",
        "colab_type": "text"
      },
      "source": [
        "### Implementing Decision Tree Classifier"
      ]
    },
    {
      "cell_type": "code",
      "metadata": {
        "id": "ZsOmWOyafXsq",
        "colab_type": "code",
        "colab": {}
      },
      "source": [
        "X_train,X_test,y_train,y_test=train_test_split(x,y,test_size=0.20,random_state=42)"
      ],
      "execution_count": 0,
      "outputs": []
    },
    {
      "cell_type": "code",
      "metadata": {
        "id": "UMoRLu_IfXss",
        "colab_type": "code",
        "colab": {},
        "outputId": "592866e0-a71c-4420-b5b5-67f0ad821919"
      },
      "source": [
        "rank_classifier = DecisionTreeClassifier(max_leaf_nodes=10, random_state=42)\n",
        "rank_classifier.fit(X_train,y_train)\n",
        "print(type(rank_classifier))\n",
        "Predictions = rank_classifier.predict(X_test)\n",
        "Predictions_train = rank_classifier.predict(X_train)"
      ],
      "execution_count": 0,
      "outputs": [
        {
          "output_type": "stream",
          "text": [
            "<class 'sklearn.tree.tree.DecisionTreeClassifier'>\n"
          ],
          "name": "stdout"
        }
      ]
    },
    {
      "cell_type": "code",
      "metadata": {
        "id": "Z87gN4YQfXst",
        "colab_type": "code",
        "colab": {},
        "outputId": "b58a1fb4-4910-4f83-d253-bd17cc0ef608"
      },
      "source": [
        "Testing_Accuarcy = accuracy_score(y_true = y_test, y_pred = Predictions)\n",
        "Training_Accuracy = accuracy_score(y_true = y_train, y_pred = Predictions_train)\n",
        "\n",
        "print(\"========Training Acuracy ========== \")\n",
        "print(Training_Accuracy)\n",
        "print(\"========Testing Acuracy =========== \")\n",
        "print(Testing_Accuarcy)"
      ],
      "execution_count": 0,
      "outputs": [
        {
          "output_type": "stream",
          "text": [
            "========Training Acuracy ========== \n",
            "0.7021913920857639\n",
            "========Testing Acuracy =========== \n",
            "0.7016017152226006\n"
          ],
          "name": "stdout"
        }
      ]
    },
    {
      "cell_type": "code",
      "metadata": {
        "id": "kbhN6NLyfXsv",
        "colab_type": "code",
        "colab": {},
        "outputId": "5eff4388-ee89-447f-a645-46d581cf299d"
      },
      "source": [
        "confusion_matrix(y_test, Predictions)"
      ],
      "execution_count": 0,
      "outputs": [
        {
          "output_type": "execute_result",
          "data": {
            "text/plain": [
              "array([[ 755, 1773],\n",
              "       [ 593, 4808]])"
            ]
          },
          "metadata": {
            "tags": []
          },
          "execution_count": 22
        }
      ]
    },
    {
      "cell_type": "code",
      "metadata": {
        "id": "Vw4NYnI6fXsx",
        "colab_type": "code",
        "colab": {},
        "outputId": "cdaaa6e5-70ec-4a14-c736-b4a9ba51a5fb"
      },
      "source": [
        "confusion_matrix(y_test,Predictions)\n",
        "from sklearn import metrics\n",
        "confusion=metrics.confusion_matrix(y_test, Predictions)\n",
        "print(confusion)\n",
        "TP = confusion[1, 1]\n",
        "TN = confusion[0, 0]\n",
        "FP = confusion[0, 1]\n",
        "FN = confusion[1, 0]"
      ],
      "execution_count": 0,
      "outputs": [
        {
          "output_type": "stream",
          "text": [
            "[[ 755 1773]\n",
            " [ 593 4808]]\n"
          ],
          "name": "stdout"
        }
      ]
    },
    {
      "cell_type": "code",
      "metadata": {
        "scrolled": true,
        "id": "VDDYVDejfXsz",
        "colab_type": "code",
        "colab": {},
        "outputId": "084602d1-70c6-42c0-a2d0-68f5cc1a0e9f"
      },
      "source": [
        "#Also known as \"Misclassification Rate\"how often is the classifier incorrect?\n",
        "print(1 - metrics.accuracy_score(y_test,Predictions))\n",
        "#Precision: When a positive value is predicted, how often is the prediction correct?\n",
        "print(metrics.precision_score(y_test, Predictions))\n",
        "#Sensitivity: When the actual value is positive, how often is the prediction correct?\n",
        "#Also known as \"True Positive Rate\" or \"Recall\"\n",
        "sensitivity = TP / float(FN + TP)\n",
        "print(sensitivity)\n",
        "#Specificity: When the actual value is negative, how often is the prediction correct?\n",
        "\n",
        "#How \"specific\" (or \"selective\") is the classifier in predicting positive instances?\n",
        "#TN / all negative\n",
        "#all negative = TN + FP\n",
        "specificity = TN / float(TN + FP)\n",
        "print(specificity)\n",
        "#False Positive Rate: When the actual value is negative, how often is the prediction incorrect?\n",
        "false_positive_rate = FP / float(TN + FP)\n",
        "\n",
        "print(false_positive_rate)"
      ],
      "execution_count": 0,
      "outputs": [
        {
          "output_type": "stream",
          "text": [
            "0.2983982847773994\n",
            "0.5600890207715133\n",
            "0.8902055174967599\n",
            "0.2986550632911392\n",
            "0.7013449367088608\n"
          ],
          "name": "stdout"
        }
      ]
    },
    {
      "cell_type": "markdown",
      "metadata": {
        "id": "eU28o0rXfXs2",
        "colab_type": "text"
      },
      "source": [
        "### Using Recursive feature elimination for identifying the most relevant attributes"
      ]
    },
    {
      "cell_type": "code",
      "metadata": {
        "id": "etnAZ2YZfXs2",
        "colab_type": "code",
        "colab": {},
        "outputId": "09e1586a-46e1-4bb3-a380-1d11a8009772"
      },
      "source": [
        "from sklearn.feature_selection import RFE\n",
        "from sklearn.linear_model import LinearRegression\n",
        "#use linear regression as the model\n",
        "lr = LinearRegression()\n",
        "rfe = RFE(lr, n_features_to_select=1)\n",
        "rfe.fit(x,y)\n",
        "print(rfe.support_)\n",
        "print(rfe.ranking_)"
      ],
      "execution_count": 0,
      "outputs": [
        {
          "output_type": "stream",
          "text": [
            "[False False False False False False False False False False False False\n",
            " False False False False False False False False False False False False\n",
            " False False False False False False False False False  True False False\n",
            " False False False False False False False False False False False False\n",
            " False False False False]\n",
            "[40 38 42 26 17  7 34 32 36 35 33 31 28 11 13  9 21 14 39 46 45 49 51 48\n",
            " 44 43 41 52 50 47 10  4  2  1  3  5  6 24 15  8 18 16 22 12 29 20 37 19\n",
            " 27 25 23 30]\n"
          ],
          "name": "stdout"
        }
      ]
    },
    {
      "cell_type": "code",
      "metadata": {
        "id": "OyBidRMFfXs4",
        "colab_type": "code",
        "colab": {},
        "outputId": "1442556c-f103-452a-aad0-e3b285d0f748"
      },
      "source": [
        "import warnings\n",
        "warnings.filterwarnings(\"ignore\")\n",
        "from sklearn.feature_selection import RFE\n",
        "from sklearn.linear_model import LogisticRegression\n",
        "#use linear regression as the model\n",
        "lr = LogisticRegression()\n",
        "rfe = RFE(lr, n_features_to_select=1)\n",
        "rfe.fit(x,y)\n",
        "print(rfe.support_)\n",
        "print(rfe.ranking_)"
      ],
      "execution_count": 0,
      "outputs": [
        {
          "output_type": "stream",
          "text": [
            "[False False False False False False False False False False False False\n",
            " False False False  True False False False False False False False False\n",
            " False False False False False False False False False False False False\n",
            " False False False False False False False False False False False False\n",
            " False False False False]\n",
            "[20 18 22 37 31 41 15 14 16 17 35 13 39  4  6  1 11  5 19 26 24 45 32 30\n",
            " 25 23 21 27 29 28  2  7 12  3  9  8 46 36 50 49 34 10 44 43 47 40 38 48\n",
            " 51 33 52 42]\n"
          ],
          "name": "stdout"
        }
      ]
    },
    {
      "cell_type": "code",
      "metadata": {
        "id": "SFpXBBagfXs6",
        "colab_type": "code",
        "colab": {}
      },
      "source": [
        "x_New = data[['LDA_02','LDA_01','LDA_03','LDA_00','LDA_04','data_channel_is_socmed','is_weekend','data_channel_is_entertainment','num_keywords','global_subjectivity','num_self_hrefs','num_hrefs','num_imgs','num_videos','n_tokens_title','n_non_stop_unique_tokens','n_non_stop_words','global_rate_negative_words','data_channel_is_tech','rate_negative_words','rate_positive_words']]"
      ],
      "execution_count": 0,
      "outputs": []
    },
    {
      "cell_type": "code",
      "metadata": {
        "id": "C3DdcLKIfXs7",
        "colab_type": "code",
        "colab": {},
        "outputId": "190fa2e3-8afa-4489-bf89-295a0c418f66"
      },
      "source": [
        "x_New.shape"
      ],
      "execution_count": 0,
      "outputs": [
        {
          "output_type": "execute_result",
          "data": {
            "text/plain": [
              "(39644, 21)"
            ]
          },
          "metadata": {
            "tags": []
          },
          "execution_count": 28
        }
      ]
    },
    {
      "cell_type": "markdown",
      "metadata": {
        "id": "OOFh3pNnfXs-",
        "colab_type": "text"
      },
      "source": [
        "### Decision tree implementation after feature selection"
      ]
    },
    {
      "cell_type": "code",
      "metadata": {
        "id": "zfRXm6W3fXs-",
        "colab_type": "code",
        "colab": {}
      },
      "source": [
        "#splitting the data\n",
        "X_train, X_test, y_train, y_test = train_test_split(x_New, y, test_size=0.20, random_state=42)"
      ],
      "execution_count": 0,
      "outputs": []
    },
    {
      "cell_type": "code",
      "metadata": {
        "id": "3pTbGywlfXtA",
        "colab_type": "code",
        "colab": {},
        "outputId": "0c555462-e8f9-4785-f77c-252c4138811f"
      },
      "source": [
        "rank_classifier = DecisionTreeClassifier(max_leaf_nodes=10, random_state=42)\n",
        "rank_classifier.fit(X_train,y_train)\n",
        "print(type(rank_classifier))\n",
        "Predictions = rank_classifier.predict(X_test)"
      ],
      "execution_count": 0,
      "outputs": [
        {
          "output_type": "stream",
          "text": [
            "<class 'sklearn.tree.tree.DecisionTreeClassifier'>\n"
          ],
          "name": "stdout"
        }
      ]
    },
    {
      "cell_type": "code",
      "metadata": {
        "id": "X01FF-0dfXtB",
        "colab_type": "code",
        "colab": {},
        "outputId": "0edb6809-fd55-483f-d210-2051e42329eb"
      },
      "source": [
        "#calculating the accuracy score\n",
        "Accuracy_DT = accuracy_score(y_true = y_test, y_pred = Predictions)\n",
        "Accuracy_DT"
      ],
      "execution_count": 0,
      "outputs": [
        {
          "output_type": "execute_result",
          "data": {
            "text/plain": [
              "0.6878547105561862"
            ]
          },
          "metadata": {
            "tags": []
          },
          "execution_count": 31
        }
      ]
    },
    {
      "cell_type": "code",
      "metadata": {
        "id": "9QoNHShifXtD",
        "colab_type": "code",
        "colab": {},
        "outputId": "af76c7d3-54ab-4352-b452-78bb317d76f4"
      },
      "source": [
        "from sklearn import metrics\n",
        "confusion=metrics.confusion_matrix(y_test, Predictions)\n",
        "print(confusion)\n",
        "TP_DT = confusion[1, 1]\n",
        "TN_DT = confusion[0, 0]\n",
        "FP_DT = confusion[0, 1]\n",
        "FN_DT = confusion[1, 0]\n",
        "#fpr, tpr, thresholds = metrics.roc_curve(y_test,Predictions)"
      ],
      "execution_count": 0,
      "outputs": [
        {
          "output_type": "stream",
          "text": [
            "[[ 495 2033]\n",
            " [ 442 4959]]\n"
          ],
          "name": "stdout"
        }
      ]
    },
    {
      "cell_type": "code",
      "metadata": {
        "id": "-_ZZ83TBfXtF",
        "colab_type": "code",
        "colab": {},
        "outputId": "420b6b4f-65a6-4068-8612-5ca0382334c1"
      },
      "source": [
        "#Also known as \"Misclassification Rate\"how often is the classifier incorrect?\n",
        "print(1 - metrics.accuracy_score(y_test, Predictions))\n",
        "#Precision: When a positive value is predicted, how often is the prediction correct?\n",
        "print(metrics.precision_score(y_test, Predictions))\n",
        "precision_DT = metrics.precision_score(y_test, Predictions)\n",
        "recall_DT = metrics.recall_score(y_test, Predictions)\n",
        "#Sensitivity: When the actual value is positive, how often is the prediction correct?\n",
        "#Also known as \"True Positive Rate\" or \"Recall\"\n",
        "#Something we want to maximize\n",
        "\n",
        "#Specificity: When the actual value is negative, how often is the prediction correct?\n",
        "sensitivity_DT = TP_DT / float(FN_DT + TP_DT)\n",
        "print(sensitivity)\n",
        "#Something we want to maximize\n",
        "#How \"specific\" (or \"selective\") is the classifier in predicting positive instances?\n",
        "#TN / all negative\n",
        "#all negative = TN + FP\n",
        "specificity_DT = TN_DT / (TN_DT + FP_DT)\n",
        "print(specificity)"
      ],
      "execution_count": 0,
      "outputs": [
        {
          "output_type": "stream",
          "text": [
            "0.3121452894438138\n",
            "0.528281750266809\n",
            "0.8902055174967599\n",
            "0.2986550632911392\n"
          ],
          "name": "stdout"
        }
      ]
    },
    {
      "cell_type": "code",
      "metadata": {
        "id": "y2J-tVUdfXtH",
        "colab_type": "code",
        "colab": {},
        "outputId": "13f0f776-7aa3-45eb-bfa7-8a6c0ee10c4f"
      },
      "source": [
        "scores_DT = cross_val_score(rank_classifier, x_New, y, cv=5).mean()\n",
        "print (scores_DT)"
      ],
      "execution_count": 0,
      "outputs": [
        {
          "output_type": "stream",
          "text": [
            "0.690016275881343\n"
          ],
          "name": "stdout"
        }
      ]
    },
    {
      "cell_type": "code",
      "metadata": {
        "id": "QUwG7OqtfXtI",
        "colab_type": "code",
        "colab": {}
      },
      "source": [
        "y_pred_prob = rank_classifier.predict_proba(X_test)[:, 1]\n",
        "\n",
        "\n",
        "#y_pred_class = binarize(y_pred_prob, 0.3)\n",
        "fpr, tpr, thresholds = metrics.roc_curve(y_test,y_pred_prob,pos_label=2)"
      ],
      "execution_count": 0,
      "outputs": []
    },
    {
      "cell_type": "code",
      "metadata": {
        "id": "XhCGzkvDfXtK",
        "colab_type": "code",
        "colab": {},
        "outputId": "74ac688d-9526-46ec-c1a4-086da430d6a7"
      },
      "source": [
        "plt.plot(fpr, tpr)\n",
        "plt.xlim([0.0, 1.0])\n",
        "plt.ylim([0.0, 1.0])\n",
        "plt.rcParams['font.size'] = 12\n",
        "plt.title('ROC curve ')\n",
        "plt.xlabel('False Positive Rate (1 - Specificity)')\n",
        "plt.ylabel('True Positive Rate (Sensitivity)')\n",
        "plt.grid(True)\n",
        "plt.show()"
      ],
      "execution_count": 0,
      "outputs": [
        {
          "output_type": "display_data",
          "data": {
            "image/png": "[encoded data removed]",
            "text/plain": [
              "<Figure size 432x288 with 1 Axes>"
            ]
          },
          "metadata": {
            "tags": [],
            "needs_background": "light"
          }
        }
      ]
    },
    {
      "cell_type": "code",
      "metadata": {
        "id": "iXLf7vi6fXtM",
        "colab_type": "code",
        "colab": {}
      },
      "source": [
        "def evaluate_threshold(threshold):\n",
        "    print('Sensitivity:', tpr[thresholds > threshold][-1])\n",
        "    print('Specificity:', 1 - fpr[thresholds > threshold][-1])"
      ],
      "execution_count": 0,
      "outputs": []
    },
    {
      "cell_type": "code",
      "metadata": {
        "id": "BWqhNaXQfXtO",
        "colab_type": "code",
        "colab": {},
        "outputId": "b750c7a8-8541-4e89-a7ab-f61e9c4981c1"
      },
      "source": [
        "evaluate_threshold(0.65)"
      ],
      "execution_count": 0,
      "outputs": [
        {
          "output_type": "stream",
          "text": [
            "Sensitivity: 0.6076652471764488\n",
            "Specificity: 0.6526898734177216\n"
          ],
          "name": "stdout"
        }
      ]
    },
    {
      "cell_type": "code",
      "metadata": {
        "scrolled": true,
        "id": "1A0rrMQ9fXtR",
        "colab_type": "code",
        "colab": {},
        "outputId": "93e8eba4-8421-421b-84d7-641d0e62b853"
      },
      "source": [
        "#loss function\n",
        "from sklearn.metrics import log_loss\n",
        "Loss_DT = log_loss(y_test,y_pred_prob)\n",
        "Loss_DT"
      ],
      "execution_count": 0,
      "outputs": [
        {
          "output_type": "execute_result",
          "data": {
            "text/plain": [
              "0.5865379459766515"
            ]
          },
          "metadata": {
            "tags": []
          },
          "execution_count": 39
        }
      ]
    },
    {
      "cell_type": "markdown",
      "metadata": {
        "id": "n1D9oKsdfXtT",
        "colab_type": "text"
      },
      "source": [
        "### Support Vector Machines(SVM)"
      ]
    },
    {
      "cell_type": "code",
      "metadata": {
        "id": "KhBu3ByefXtT",
        "colab_type": "code",
        "colab": {}
      },
      "source": [
        "from sklearn import svm"
      ],
      "execution_count": 0,
      "outputs": []
    },
    {
      "cell_type": "code",
      "metadata": {
        "id": "MghTCFV1fXtV",
        "colab_type": "code",
        "colab": {}
      },
      "source": [
        "X_train, X_test, y_train, y_test = train_test_split(x_New, y, test_size=0.20, random_state=42)"
      ],
      "execution_count": 0,
      "outputs": []
    },
    {
      "cell_type": "code",
      "metadata": {
        "id": "s14XtfqufXtX",
        "colab_type": "code",
        "colab": {},
        "outputId": "0d7710f6-c7f9-4b2f-a71e-799435f3f478"
      },
      "source": [
        "svm_classifier = svm.SVC(probability=True)\n",
        "svm_classifier.fit(X_train,y_train)"
      ],
      "execution_count": 0,
      "outputs": [
        {
          "output_type": "execute_result",
          "data": {
            "text/plain": [
              "SVC(C=1.0, cache_size=200, class_weight=None, coef0=0.0,\n",
              "  decision_function_shape='ovr', degree=3, gamma='auto_deprecated',\n",
              "  kernel='rbf', max_iter=-1, probability=True, random_state=None,\n",
              "  shrinking=True, tol=0.001, verbose=False)"
            ]
          },
          "metadata": {
            "tags": []
          },
          "execution_count": 42
        }
      ]
    },
    {
      "cell_type": "code",
      "metadata": {
        "id": "R5LHDg4DfXtZ",
        "colab_type": "code",
        "colab": {},
        "outputId": "372a060f-2fa0-4ec9-dbe9-1214848af3f5"
      },
      "source": [
        "Predictions_svm = svm_classifier.predict(X_test)\n",
        "Accuracy_SVM = accuracy_score(y_true = y_test, y_pred = Predictions_svm)\n",
        "Accuracy_SVM"
      ],
      "execution_count": 0,
      "outputs": [
        {
          "output_type": "execute_result",
          "data": {
            "text/plain": [
              "0.6867196367763905"
            ]
          },
          "metadata": {
            "tags": []
          },
          "execution_count": 43
        }
      ]
    },
    {
      "cell_type": "code",
      "metadata": {
        "id": "prnBawlffXtc",
        "colab_type": "code",
        "colab": {},
        "outputId": "64f7dd2e-8840-44d4-fcb9-2ef08d671247"
      },
      "source": [
        "confusion_matrix(y_test,Predictions_svm)\n",
        "from sklearn import metrics\n",
        "confusion=metrics.confusion_matrix(y_test, Predictions_svm)\n",
        "print(confusion)\n",
        "TP_SVM = confusion[1, 1]\n",
        "TN_SVM = confusion[0, 0]\n",
        "FP_SVM = confusion[0, 1]\n",
        "FN_SVM = confusion[1, 0]\n",
        "#fpr, tpr, thresholds = metrics.roc_curve(y_test,Predictions)"
      ],
      "execution_count": 0,
      "outputs": [
        {
          "output_type": "stream",
          "text": [
            "[[ 131 2397]\n",
            " [  87 5314]]\n"
          ],
          "name": "stdout"
        }
      ]
    },
    {
      "cell_type": "code",
      "metadata": {
        "id": "tRdNX0ahfXte",
        "colab_type": "code",
        "colab": {},
        "outputId": "885bcf0e-d2de-4528-ede5-319e61271be0"
      },
      "source": [
        "#Also known as \"Misclassification Rate\"how often is the classifier incorrect?\n",
        "print(1 - metrics.accuracy_score(y_test, Predictions_svm))\n",
        "#Precision: When a positive value is predicted, how often is the prediction correct?\n",
        "print(metrics.precision_score(y_test, Predictions_svm))\n",
        "precision_SVM = metrics.precision_score(y_test, Predictions_svm)\n",
        "recall_SVM = metrics.recall_score(y_test, Predictions_svm)\n",
        "\n",
        "#Sensitivity: When the actual value is positive, how often is the prediction correct?\n",
        "#Also known as \"True Positive Rate\" or \"Recall\"\n",
        "#Something we want to maximize\n",
        "sensitivity_SVM = TP_SVM / float(FN_SVM + TP_SVM)\n",
        "print(sensitivity_SVM)\n",
        "#Specificity: When the actual value is negative, how often is the prediction correct?\n",
        "\n",
        "#Something we want to maximize\n",
        "#How \"specific\" (or \"selective\") is the classifier in predicting positive instances?\n",
        "#TN / all negative\n",
        "#all negative = TN + FP\n",
        "specificity_SVM = TN_SVM / (TN_SVM + FP_SVM)\n",
        "print(specificity_SVM)"
      ],
      "execution_count": 0,
      "outputs": [
        {
          "output_type": "stream",
          "text": [
            "0.3132803632236095\n",
            "0.6009174311926605\n",
            "0.9838918718755786\n",
            "0.051819620253164556\n"
          ],
          "name": "stdout"
        }
      ]
    },
    {
      "cell_type": "code",
      "metadata": {
        "id": "_AyIne85fXtf",
        "colab_type": "code",
        "colab": {},
        "outputId": "63ecbcdd-e58e-41b2-80c8-349bd5cac155"
      },
      "source": [
        "y_pred_prob = svm_classifier.predict_proba(X_test)[:, 1]\n",
        "\n",
        "fpr, tpr, thresholds = metrics.roc_curve(y_test,y_pred_prob,pos_label=2)\n",
        "\n",
        "plt.plot(fpr, tpr)\n",
        "plt.xlim([0.0, 1.0])\n",
        "plt.ylim([0.0, 1.0])\n",
        "plt.rcParams['font.size'] = 12\n",
        "plt.title('ROC curve ')\n",
        "plt.xlabel('False Positive Rate (1 - Specificity)')\n",
        "plt.ylabel('True Positive Rate (Sensitivity)')\n",
        "plt.grid(True)"
      ],
      "execution_count": 0,
      "outputs": [
        {
          "output_type": "display_data",
          "data": {
            "image/png": "[encoded data removed]",
            "text/plain": [
              "<Figure size 432x288 with 1 Axes>"
            ]
          },
          "metadata": {
            "tags": [],
            "needs_background": "light"
          }
        }
      ]
    },
    {
      "cell_type": "code",
      "metadata": {
        "id": "y1r8oaVMfXth",
        "colab_type": "code",
        "colab": {}
      },
      "source": [
        "def evaluate_threshold(threshold):\n",
        "    print('Sensitivity:', tpr[thresholds > threshold][-1])\n",
        "    print('Specificity:', 1 - fpr[thresholds > threshold][-1])"
      ],
      "execution_count": 0,
      "outputs": []
    },
    {
      "cell_type": "code",
      "metadata": {
        "id": "ZjweVVidfXti",
        "colab_type": "code",
        "colab": {},
        "outputId": "f1242bc7-8951-4a84-d55a-d4f6a07efecd"
      },
      "source": [
        "evaluate_threshold(0.65)"
      ],
      "execution_count": 0,
      "outputs": [
        {
          "output_type": "stream",
          "text": [
            "Sensitivity: 0.8333641918163303\n",
            "Specificity: 0.31566455696202533\n"
          ],
          "name": "stdout"
        }
      ]
    },
    {
      "cell_type": "code",
      "metadata": {
        "id": "enMPp3v-fXtk",
        "colab_type": "code",
        "colab": {},
        "outputId": "4d782397-98b6-4d8b-c36e-964708e6c480"
      },
      "source": [
        "#loss function\n",
        "from sklearn.metrics import log_loss\n",
        "Loss_SVM = log_loss(y_test,y_pred_prob)\n",
        "Loss_SVM"
      ],
      "execution_count": 0,
      "outputs": [
        {
          "output_type": "execute_result",
          "data": {
            "text/plain": [
              "0.6029603414518406"
            ]
          },
          "metadata": {
            "tags": []
          },
          "execution_count": 49
        }
      ]
    },
    {
      "cell_type": "markdown",
      "metadata": {
        "id": "UKDiEY6XfXtl",
        "colab_type": "text"
      },
      "source": [
        "### K Nearest Neighbour(KNN)"
      ]
    },
    {
      "cell_type": "code",
      "metadata": {
        "id": "I24unsVLfXtm",
        "colab_type": "code",
        "colab": {},
        "outputId": "0ed4d6ba-6cdf-4af1-8412-481b9b656e4d"
      },
      "source": [
        "from sklearn import neighbors\n",
        "Accuracy_KNN = []\n",
        "for i in range(3,15):\n",
        "    knn = neighbors.KNeighborsClassifier(n_neighbors=i)\n",
        "    knn.fit(X_train,y_train)\n",
        "    predicted_knn = knn.predict(X_test)\n",
        "    Accuracy = accuracy_score(y_true = y_test, y_pred = predicted_knn)\n",
        "    print(\"K {} value Accuracy\".format(i))\n",
        "    print(Accuracy)\n",
        "    Accuracy_KNN.append(Accuracy)"
      ],
      "execution_count": 0,
      "outputs": [
        {
          "output_type": "stream",
          "text": [
            "K 3 value Accuracy\n",
            "0.6382898221717745\n",
            "K 4 value Accuracy\n",
            "0.5979316433345945\n",
            "K 5 value Accuracy\n",
            "0.6491360827342666\n",
            "K 6 value Accuracy\n",
            "0.6241644595787615\n",
            "K 7 value Accuracy\n",
            "0.6593517467524278\n",
            "K 8 value Accuracy\n",
            "0.645352503468281\n",
            "K 9 value Accuracy\n",
            "0.6651532349602725\n",
            "K 10 value Accuracy\n",
            "0.651406230293858\n",
            "K 11 value Accuracy\n",
            "0.6693151721528566\n",
            "K 12 value Accuracy\n",
            "0.6544330937066465\n",
            "K 13 value Accuracy\n",
            "0.6662883087400681\n",
            "K 14 value Accuracy\n",
            "0.6583427922814983\n"
          ],
          "name": "stdout"
        }
      ]
    },
    {
      "cell_type": "code",
      "metadata": {
        "id": "hkZP6g_wfXtp",
        "colab_type": "code",
        "colab": {},
        "outputId": "71e44a7a-1e67-4bec-9cb4-bd8987e15bba"
      },
      "source": [
        "print(max(Accuracy_KNN))\n",
        "temp = np.array(Accuracy_KNN)\n",
        "print(\"Optimal K value\")\n",
        "print(temp.argmax()+3) #since starting from 3 added 3\n",
        "\n",
        "Accuracy_KNN = temp.max()"
      ],
      "execution_count": 0,
      "outputs": [
        {
          "output_type": "stream",
          "text": [
            "0.6693151721528566\n",
            "Optimal K value\n",
            "11\n"
          ],
          "name": "stdout"
        }
      ]
    },
    {
      "cell_type": "code",
      "metadata": {
        "id": "ZQ8pteFhfXts",
        "colab_type": "code",
        "colab": {},
        "outputId": "80f1aed0-b7c1-4e59-862d-f0b97f9d813f"
      },
      "source": [
        "confusion_matrix(y_test,predicted_knn)\n",
        "from sklearn import metrics\n",
        "confusion=metrics.confusion_matrix(y_test, predicted_knn)\n",
        "print(confusion)\n",
        "TP_KNN = confusion[1, 1]\n",
        "TN_KNN = confusion[0, 0]\n",
        "FP_KNN = confusion[0, 1]\n",
        "FN_KNN = confusion[1, 0]"
      ],
      "execution_count": 0,
      "outputs": [
        {
          "output_type": "stream",
          "text": [
            "[[ 730 1798]\n",
            " [ 911 4490]]\n"
          ],
          "name": "stdout"
        }
      ]
    },
    {
      "cell_type": "code",
      "metadata": {
        "id": "Dvh9-j4ufXtu",
        "colab_type": "code",
        "colab": {},
        "outputId": "1317af7d-81b9-40be-e77d-e9323ff320d8"
      },
      "source": [
        "#Also known as \"Misclassification Rate\"how often is the classifier incorrect?\n",
        "print(1 - metrics.accuracy_score(y_test, predicted_knn))\n",
        "#Precision: When a positive value is predicted, how often is the prediction correct?\n",
        "print(metrics.precision_score(y_test, predicted_knn))\n",
        "precision_KNN = metrics.precision_score(y_test, predicted_knn)\n",
        "recall_KNN = metrics.recall_score(y_test, predicted_knn)\n",
        "#Sensitivity: When the actual value is positive, how often is the prediction correct?\n",
        "#Also known as \"True Positive Rate\" or \"Recall\"\n",
        "#Something we want to maximize\n",
        "print(metrics.recall_score(y_test,predicted_knn))\n",
        "#Specificity: When the actual value is negative, how often is the prediction correct?\n",
        "sensitivity_KNN = TP_KNN / float(FN_KNN + TP_KNN)\n",
        "print(sensitivity_KNN)\n",
        "\n",
        "\n",
        "#Something we want to maximize\n",
        "#How \"specific\" (or \"selective\") is the classifier in predicting positive instances?\n",
        "#TN / all negative\n",
        "#all negative = TN + FP\n",
        "specificity_KNN = TN_KNN / (TN_KNN + FP_KNN)\n",
        "print(specificity_KNN)\n",
        "#False Positive Rate: When the actual value is negative, how often is the prediction incorrect?\n",
        "print(1 - specificity_KNN)"
      ],
      "execution_count": 0,
      "outputs": [
        {
          "output_type": "stream",
          "text": [
            "0.3416572077185017\n",
            "0.4448507007921999\n",
            "0.2887658227848101\n",
            "0.8313275319385299\n",
            "0.2887658227848101\n",
            "0.7112341772151899\n"
          ],
          "name": "stdout"
        }
      ]
    },
    {
      "cell_type": "code",
      "metadata": {
        "id": "GfhvODynfXtv",
        "colab_type": "code",
        "colab": {},
        "outputId": "b9d9a71c-9627-4a4c-b2ef-1c72e3afade6"
      },
      "source": [
        "knn.predict_proba(X_test)[0:10]"
      ],
      "execution_count": 0,
      "outputs": [
        {
          "output_type": "execute_result",
          "data": {
            "text/plain": [
              "array([[0.14285714, 0.85714286],\n",
              "       [0.5       , 0.5       ],\n",
              "       [0.21428571, 0.78571429],\n",
              "       [0.64285714, 0.35714286],\n",
              "       [0.21428571, 0.78571429],\n",
              "       [0.5       , 0.5       ],\n",
              "       [0.57142857, 0.42857143],\n",
              "       [0.21428571, 0.78571429],\n",
              "       [0.35714286, 0.64285714],\n",
              "       [0.28571429, 0.71428571]])"
            ]
          },
          "metadata": {
            "tags": []
          },
          "execution_count": 54
        }
      ]
    },
    {
      "cell_type": "code",
      "metadata": {
        "id": "D0qQut5afXtz",
        "colab_type": "code",
        "colab": {},
        "outputId": "cbb15b84-3986-4c4a-c835-4847960597ec"
      },
      "source": [
        "scores = cross_val_score(knn, x_New, y, cv=5).mean()\n",
        "print (scores)"
      ],
      "execution_count": 0,
      "outputs": [
        {
          "output_type": "stream",
          "text": [
            "0.6575018176579503\n"
          ],
          "name": "stdout"
        }
      ]
    },
    {
      "cell_type": "code",
      "metadata": {
        "id": "zJ7Jz7FhfXt0",
        "colab_type": "code",
        "colab": {}
      },
      "source": [
        "y_pred_prob = knn.predict_proba(X_test)[:, 1]\n",
        "#y = label_binarize(predicted_knn, classes=[0, 1])\n",
        "#n_classes = y.shape[1]\n",
        "\n",
        "#y_pred_class = binarize(y_pred_prob, 0.3)\n",
        "fpr, tpr, thresholds = metrics.roc_curve(y_test,y_pred_prob,pos_label=2)"
      ],
      "execution_count": 0,
      "outputs": []
    },
    {
      "cell_type": "code",
      "metadata": {
        "id": "wWv2h-2wfXt2",
        "colab_type": "code",
        "colab": {},
        "outputId": "570b0a7b-dbef-4c2f-9f98-d4a070b2ab78"
      },
      "source": [
        "plt.plot(fpr, tpr)\n",
        "plt.xlim([0.0, 1.0])\n",
        "plt.ylim([0.0, 1.0])\n",
        "plt.rcParams['font.size'] = 12\n",
        "plt.title('ROC curve ')\n",
        "plt.xlabel('False Positive Rate (1 - Specificity)')\n",
        "plt.ylabel('True Positive Rate (Sensitivity)')\n",
        "plt.grid(True)\n",
        "plt.show()"
      ],
      "execution_count": 0,
      "outputs": [
        {
          "output_type": "display_data",
          "data": {
            "image/png": "[encoded data removed]",
            "text/plain": [
              "<Figure size 432x288 with 1 Axes>"
            ]
          },
          "metadata": {
            "tags": [],
            "needs_background": "light"
          }
        }
      ]
    },
    {
      "cell_type": "code",
      "metadata": {
        "id": "rnfWbPRDfXt4",
        "colab_type": "code",
        "colab": {}
      },
      "source": [
        "def evaluate_threshold(threshold):\n",
        "    print('Sensitivity:', tpr[thresholds > threshold][-1])\n",
        "    print('Specificity:', 1 - fpr[thresholds > threshold][-1])"
      ],
      "execution_count": 0,
      "outputs": []
    },
    {
      "cell_type": "code",
      "metadata": {
        "id": "XEgl8LtmfXt6",
        "colab_type": "code",
        "colab": {},
        "outputId": "2e0849e1-342e-4a34-b65e-82e0314505b9"
      },
      "source": [
        "evaluate_threshold(0.65)"
      ],
      "execution_count": 0,
      "outputs": [
        {
          "output_type": "stream",
          "text": [
            "Sensitivity: 0.5643399370486947\n",
            "Specificity: 0.5949367088607596\n"
          ],
          "name": "stdout"
        }
      ]
    },
    {
      "cell_type": "code",
      "metadata": {
        "id": "v07TStTNfXt8",
        "colab_type": "code",
        "colab": {},
        "outputId": "aa2cea80-e7d8-46c1-9e15-9a30a0894b66"
      },
      "source": [
        "#loss function\n",
        "from sklearn.metrics import log_loss\n",
        "Loss_KNN = log_loss(y_test,y_pred_prob)\n",
        "Loss_KNN"
      ],
      "execution_count": 0,
      "outputs": [
        {
          "output_type": "execute_result",
          "data": {
            "text/plain": [
              "0.7207286914507727"
            ]
          },
          "metadata": {
            "tags": []
          },
          "execution_count": 60
        }
      ]
    },
    {
      "cell_type": "markdown",
      "metadata": {
        "id": "W18l40ZPfXt9",
        "colab_type": "text"
      },
      "source": [
        "### Results\n",
        "### Comparing the models based on following factors\n",
        "Accuracy , Loss , True Positive , False Positive , True Negative , False Negative , Sensitivity , Precision and Recall"
      ]
    },
    {
      "cell_type": "code",
      "metadata": {
        "id": "6iJf4lnFfXt-",
        "colab_type": "code",
        "colab": {},
        "outputId": "4b0a7ba4-5195-46aa-e469-f673370e95e4"
      },
      "source": [
        "resultdf = pd.DataFrame(columns=[\"Model\",\"Accuracy\",\"Loss\",\"TP\",\"FP\",\"TN\",\"FN\",\"Sensitivity\",\"Specificity\",\"Precision\",\"Recall\"])\n",
        "resultdf.loc[0] = [\"Decision Tree\", Accuracy_DT,Loss_DT,TP_DT,FP_DT,TN_DT,FN_DT,sensitivity_DT, specificity_DT,precision_DT,recall_DT]\n",
        "resultdf.loc[1] = [\"SVM\", Accuracy_SVM, Loss_SVM, TP_SVM,FP_SVM,TN_SVM,FN_SVM,sensitivity_SVM, specificity_SVM,precision_SVM,recall_SVM]\n",
        "resultdf.loc[2] = [\"KNN\", Accuracy_KNN,Loss_KNN, TP_KNN,FP_KNN,TN_KNN,FN_KNN, sensitivity_KNN,specificity_KNN,precision_KNN,recall_KNN]\n",
        "resultdf"
      ],
      "execution_count": 0,
      "outputs": [
        {
          "output_type": "execute_result",
          "data": {
            "text/html": [
              "<div>\n",
              "<style scoped>\n",
              "    .dataframe tbody tr th:only-of-type {\n",
              "        vertical-align: middle;\n",
              "    }\n",
              "\n",
              "    .dataframe tbody tr th {\n",
              "        vertical-align: top;\n",
              "    }\n",
              "\n",
              "    .dataframe thead th {\n",
              "        text-align: right;\n",
              "    }\n",
              "</style>\n",
              "<table border=\"1\" class=\"dataframe\">\n",
              "  <thead>\n",
              "    <tr style=\"text-align: right;\">\n",
              "      <th></th>\n",
              "      <th>Model</th>\n",
              "      <th>Accuracy</th>\n",
              "      <th>Loss</th>\n",
              "      <th>TP</th>\n",
              "      <th>FP</th>\n",
              "      <th>TN</th>\n",
              "      <th>FN</th>\n",
              "      <th>Sensitivity</th>\n",
              "      <th>Specificity</th>\n",
              "      <th>Precision</th>\n",
              "      <th>Recall</th>\n",
              "    </tr>\n",
              "  </thead>\n",
              "  <tbody>\n",
              "    <tr>\n",
              "      <th>0</th>\n",
              "      <td>Decision Tree</td>\n",
              "      <td>0.687855</td>\n",
              "      <td>0.586538</td>\n",
              "      <td>4959</td>\n",
              "      <td>2033</td>\n",
              "      <td>495</td>\n",
              "      <td>442</td>\n",
              "      <td>0.918163</td>\n",
              "      <td>0.195807</td>\n",
              "      <td>0.528282</td>\n",
              "      <td>0.195807</td>\n",
              "    </tr>\n",
              "    <tr>\n",
              "      <th>1</th>\n",
              "      <td>SVM</td>\n",
              "      <td>0.686720</td>\n",
              "      <td>0.602960</td>\n",
              "      <td>5314</td>\n",
              "      <td>2397</td>\n",
              "      <td>131</td>\n",
              "      <td>87</td>\n",
              "      <td>0.983892</td>\n",
              "      <td>0.051820</td>\n",
              "      <td>0.600917</td>\n",
              "      <td>0.051820</td>\n",
              "    </tr>\n",
              "    <tr>\n",
              "      <th>2</th>\n",
              "      <td>KNN</td>\n",
              "      <td>0.669315</td>\n",
              "      <td>0.720729</td>\n",
              "      <td>4490</td>\n",
              "      <td>1798</td>\n",
              "      <td>730</td>\n",
              "      <td>911</td>\n",
              "      <td>0.831328</td>\n",
              "      <td>0.288766</td>\n",
              "      <td>0.444851</td>\n",
              "      <td>0.288766</td>\n",
              "    </tr>\n",
              "  </tbody>\n",
              "</table>\n",
              "</div>"
            ],
            "text/plain": [
              "           Model  Accuracy      Loss    TP    FP   TN   FN  Sensitivity  \\\n",
              "0  Decision Tree  0.687855  0.586538  4959  2033  495  442     0.918163   \n",
              "1            SVM  0.686720  0.602960  5314  2397  131   87     0.983892   \n",
              "2            KNN  0.669315  0.720729  4490  1798  730  911     0.831328   \n",
              "\n",
              "   Specificity  Precision    Recall  \n",
              "0     0.195807   0.528282  0.195807  \n",
              "1     0.051820   0.600917  0.051820  \n",
              "2     0.288766   0.444851  0.288766  "
            ]
          },
          "metadata": {
            "tags": []
          },
          "execution_count": 61
        }
      ]
    }
  ]
}